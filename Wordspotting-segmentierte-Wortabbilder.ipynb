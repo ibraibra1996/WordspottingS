{
 "cells": [
  {
   "cell_type": "markdown",
   "metadata": {},
   "source": [
    "# Segmentation"
   ]
  },
  {
   "cell_type": "code",
   "execution_count": 365,
   "metadata": {},
   "outputs": [
    {
     "name": "stdout",
     "output_type": "stream",
     "text": [
      "The autoreload extension is already loaded. To reload it, use:\n",
      "  %reload_ext autoreload\n"
     ]
    }
   ],
   "source": [
    "%load_ext autoreload\n",
    "%autoreload 2\n",
    "%matplotlib widget\n",
    "\n",
    "import os\n",
    "import PIL.Image as Image\n",
    "import matplotlib.pyplot as plt\n",
    "import matplotlib.cm as cm\n",
    "import numpy as np\n",
    "\n",
    "\n",
    "\n",
    "class Segmentation(object):\n",
    "    @staticmethod\n",
    "    def segmentCut(image, document_text):\n",
    "        segmentFile=open(document_text, 'r')\n",
    "        \n",
    "        lines = segmentFile.readlines()\n",
    "        listOfWordPics=list()\n",
    "        \n",
    "        for line in lines:\n",
    "            left0, top0, right0, bottom0, content = line.split(\" \")\n",
    "            left=int(left0)\n",
    "            right=int(right0)\n",
    "            top=int(top0)\n",
    "            bottom=int(bottom0)\n",
    "            \n",
    "            word=image.crop((left, top, right, bottom))\n",
    "            listOfWordPics.append((word,content))\n",
    "        \n",
    "        return listOfWordPics\n",
    "\n",
    "\n"
   ]
  },
  {
   "cell_type": "markdown",
   "metadata": {},
   "source": [
    "# BagOfFeatures"
   ]
  },
  {
   "cell_type": "markdown",
   "metadata": {},
   "source": [
    "### Import-Section"
   ]
  },
  {
   "cell_type": "code",
   "execution_count": 366,
   "metadata": {
    "collapsed": true
   },
   "outputs": [
    {
     "name": "stdout",
     "output_type": "stream",
     "text": [
      "The autoreload extension is already loaded. To reload it, use:\n",
      "  %reload_ext autoreload\n"
     ]
    }
   ],
   "source": [
    "%load_ext autoreload\n",
    "%autoreload 2\n",
    "%matplotlib widget\n",
    "\n",
    "import scipy.signal\n",
    "import numpy as np\n",
    "import matplotlib.cm as cm\n",
    "import matplotlib.pyplot as plt\n",
    "import PIL.Image as Image\n",
    "\n",
    "# matplotlib.use('Qt5Agg')\n",
    "\n",
    "import cv2\n",
    "import numpy as np\n",
    "import os\n",
    "import pickle\n",
    "\n",
    "\n"
   ]
  },
  {
   "cell_type": "markdown",
   "metadata": {},
   "source": [
    "1. Für den gesamten Datensatz:\n",
    "- Graustufen-Darstellung erzeugen\n",
    "- Auf Vektoren reduzieren (lokale Bild-Deskriptoren - SIFT)\n",
    "\n",
    "2. Visual Vocabulary finden \n",
    "- Clustern\n",
    "- Gewichten\n",
    "\n",
    "3. Quantisieren\n",
    "- Abbildung von Deskriptoren auf Centruiden\n",
    "- Wie oft kommt ein vis. Word aus dem vis. Voc in dem Bild vor\n",
    "-> Histogramm\n",
    "\n",
    "4. Distanzen zwischen den Histogrammen vergleichen"
   ]
  },
  {
   "cell_type": "code",
   "execution_count": 367,
   "outputs": [],
   "source": [
    "from common import features\n",
    "from scipy.cluster.vq import kmeans2\n",
    "documentSegmentation=os.path.join('GT', '2700270.gtp')\n",
    "documentImage=os.path.join('pages', '2700270.png')\n",
    "image=Image.open(documentImage)\n",
    "\n",
    "\n",
    "wordImageList=Segmentation.segmentCut(image, documentSegmentation)"
   ],
   "metadata": {
    "collapsed": false,
    "pycharm": {
     "name": "#%%\n"
    }
   }
  },
  {
   "cell_type": "code",
   "execution_count": 368,
   "outputs": [],
   "source": [
    "import pathlib\n",
    "\n",
    "#plt.figure()\n",
    "#wordImageList[5][0].show()\n",
    "\n",
    "#document_image_filename = os.path.join('pages', wordnames[i])\n",
    "#img = cv2.imread(wordImageList[5][0])\n"
   ],
   "metadata": {
    "collapsed": false,
    "pycharm": {
     "name": "#%%\n"
    }
   }
  },
  {
   "cell_type": "code",
   "execution_count": 369,
   "outputs": [
    {
     "data": {
      "text/plain": "array([[205, 206, 208, ..., 207, 208, 209],\n       [207, 206, 206, ..., 207, 207, 207],\n       [207, 207, 206, ..., 211, 211, 208],\n       ...,\n       [207, 206, 205, ..., 204, 204, 203],\n       [205, 203, 203, ..., 193, 193, 193],\n       [200, 199, 199, ..., 160, 159, 158]], dtype=uint8)"
     },
     "execution_count": 369,
     "metadata": {},
     "output_type": "execute_result"
    }
   ],
   "source": [
    "image=np.array(wordImageList[5][0])\n",
    "image"
   ],
   "metadata": {
    "collapsed": false,
    "pycharm": {
     "name": "#%%\n"
    }
   }
  },
  {
   "cell_type": "code",
   "execution_count": 370,
   "outputs": [
    {
     "data": {
      "text/plain": "array([[  0.,   3.,  16., ...,   2., 123.,  77.],\n       [ 24.,   0.,   0., ...,  25., 153.,  27.],\n       [  3., 110.,  38., ...,   0.,   0.,   0.],\n       ...,\n       [  0.,   0.,  67., ...,   0.,  26., 120.],\n       [  8.,  45.,  12., ..., 131.,  59.,   0.],\n       [  1.,   1.,   0., ...,  12.,  80.,  44.]], dtype=float32)"
     },
     "execution_count": 370,
     "metadata": {},
     "output_type": "execute_result"
    }
   ],
   "source": [
    "\n",
    "frames, desc = features.compute_sift_descriptors(image,step_size = 15,cell_size = 3)\n",
    "desc"
   ],
   "metadata": {
    "collapsed": false,
    "pycharm": {
     "name": "#%%\n"
    }
   }
  },
  {
   "cell_type": "code",
   "execution_count": 371,
   "outputs": [
    {
     "name": "stdout",
     "output_type": "stream",
     "text": [
      "[array([ 8, 10,  7, 11], dtype=int64), array([45, 16, 18, 33], dtype=int64), array([14, 28, 24, 19], dtype=int64), array([12, 15, 20, 23], dtype=int64), array([52, 69, 50, 51], dtype=int64), array([15, 17, 19, 45], dtype=int64), array([ 3, 13, 16, 18], dtype=int64), array([18, 16, 25, 21], dtype=int64), array([20, 11, 20, 12], dtype=int64), array([ 6, 12, 28,  8], dtype=int64), array([35, 47, 46, 26], dtype=int64), array([ 6,  9, 13, 12], dtype=int64), array([21, 12, 18, 17], dtype=int64), array([9, 8, 6, 7], dtype=int64), array([47, 26, 20, 22], dtype=int64), array([12,  9,  6, 13], dtype=int64), array([14, 17, 11, 14], dtype=int64), array([26, 41, 25, 20], dtype=int64), array([10,  9,  7,  4], dtype=int64), array([28, 19, 13, 18], dtype=int64), array([3, 5, 7, 5], dtype=int64), array([3, 8, 3, 6], dtype=int64), array([12, 24, 10, 14], dtype=int64), array([19, 12, 14, 15], dtype=int64), array([2, 2, 4, 2], dtype=int64), array([17, 37, 13,  9], dtype=int64), array([11, 10,  6, 15], dtype=int64), array([21, 18, 17, 34], dtype=int64), array([21, 18, 18, 18], dtype=int64), array([ 3,  4, 11, 18], dtype=int64), array([14, 18, 14,  6], dtype=int64), array([6, 1, 4, 4], dtype=int64), array([54, 49, 45, 41], dtype=int64), array([11, 11, 12,  8], dtype=int64), array([16, 16, 11, 25], dtype=int64), array([ 7, 10, 10,  9], dtype=int64), array([32, 41, 36, 35], dtype=int64), array([ 8, 21, 10, 26], dtype=int64), array([20, 11, 13,  5], dtype=int64), array([18, 17, 35, 20], dtype=int64), array([17, 17,  9,  5], dtype=int64), array([18,  4,  6, 12], dtype=int64), array([9, 7, 2, 6], dtype=int64), array([56, 29, 39, 32], dtype=int64), array([ 4,  7, 10, 14], dtype=int64), array([24, 16, 43, 22], dtype=int64), array([18, 18, 21,  7], dtype=int64), array([27, 36, 24, 33], dtype=int64), array([11,  5,  9, 17], dtype=int64), array([23, 21, 20, 21], dtype=int64), array([2, 7, 6, 5], dtype=int64), array([5, 7, 4, 4], dtype=int64), array([24, 26, 18, 20], dtype=int64), array([29, 40, 40, 35], dtype=int64), array([33, 18, 19, 21], dtype=int64), array([ 2,  4, 10,  4], dtype=int64), array([37, 46, 43, 56], dtype=int64), array([8, 7, 3, 3], dtype=int64), array([ 9, 13,  2, 12], dtype=int64), array([36, 43, 33, 43], dtype=int64), array([ 8, 18, 14,  9], dtype=int64), array([18, 28, 28, 31], dtype=int64), array([28, 23, 44, 37], dtype=int64), array([ 3, 12,  8,  9], dtype=int64), array([12,  6,  9,  8], dtype=int64), array([5, 2, 7, 4], dtype=int64), array([11, 19, 12,  8], dtype=int64), array([10, 10, 21,  4], dtype=int64), array([45, 26, 42, 37], dtype=int64), array([ 9, 18, 10, 11], dtype=int64), array([29, 49, 25, 27], dtype=int64), array([46, 32, 30, 46], dtype=int64), array([41, 33, 52, 18], dtype=int64), array([15,  6,  1,  6], dtype=int64), array([20, 26, 16, 10], dtype=int64), array([15, 22, 20, 20], dtype=int64), array([48, 40, 56, 36], dtype=int64), array([28, 23, 46, 23], dtype=int64), array([ 5,  9,  7, 15], dtype=int64), array([27, 12, 22, 17], dtype=int64), array([27, 31, 18, 29], dtype=int64), array([44, 50, 71, 45], dtype=int64), array([12, 11, 15, 12], dtype=int64), array([16, 18, 21, 20], dtype=int64), array([ 5, 13,  5, 13], dtype=int64), array([ 4, 13,  3,  4], dtype=int64), array([15,  8, 11,  8], dtype=int64), array([20, 24, 40, 20], dtype=int64), array([ 9, 24, 15, 12], dtype=int64), array([74, 56, 54, 44], dtype=int64), array([21, 28, 29, 20], dtype=int64), array([32, 10, 18, 20], dtype=int64), array([69, 43, 46, 45], dtype=int64), array([6, 5, 2, 1], dtype=int64), array([61, 40, 58, 51], dtype=int64), array([4, 2, 5, 9], dtype=int64), array([5, 1, 5, 4], dtype=int64), array([19, 19, 23, 11], dtype=int64), array([19, 16, 17, 25], dtype=int64), array([7, 3, 9, 8], dtype=int64), array([10, 13, 21, 11], dtype=int64), array([ 4, 14,  3,  3], dtype=int64), array([31, 13, 27, 33], dtype=int64), array([10, 10, 14, 18], dtype=int64), array([ 6, 12,  7, 10], dtype=int64), array([12,  6,  9, 15], dtype=int64), array([8, 7, 9, 6], dtype=int64), array([ 5, 19,  5, 11], dtype=int64), array([27, 30, 13, 20], dtype=int64), array([11,  2,  4,  4], dtype=int64), array([32, 19, 19, 15], dtype=int64), array([11, 12, 10, 15], dtype=int64), array([ 5, 11,  7,  7], dtype=int64), array([21, 24, 22, 10], dtype=int64), array([4, 4, 2, 8], dtype=int64), array([ 6, 16,  6,  5], dtype=int64), array([31, 48, 43, 52], dtype=int64), array([14, 21, 27, 18], dtype=int64), array([3, 4, 4, 7], dtype=int64), array([19,  8,  3,  5], dtype=int64), array([30, 22, 23, 23], dtype=int64), array([ 7, 12, 10, 13], dtype=int64), array([31, 22, 20, 29], dtype=int64), array([6, 2, 9, 5], dtype=int64), array([22, 48, 27, 35], dtype=int64), array([20, 23, 24, 17], dtype=int64), array([13, 15, 15, 23], dtype=int64), array([13, 12, 12,  7], dtype=int64), array([7, 4, 2, 7], dtype=int64), array([15, 10, 14, 11], dtype=int64), array([ 7, 10,  7,  6], dtype=int64), array([ 1,  5, 10,  9], dtype=int64), array([11, 29, 20, 10], dtype=int64), array([43, 38, 32, 19], dtype=int64), array([11, 10, 14,  7], dtype=int64), array([36, 39, 28, 29], dtype=int64), array([ 8, 12,  7,  3], dtype=int64), array([16, 17, 16, 11], dtype=int64), array([22, 23, 15, 24], dtype=int64), array([2, 4, 3, 5], dtype=int64), array([5, 2, 7, 6], dtype=int64), array([ 5, 13,  8, 10], dtype=int64), array([18, 24, 13, 10], dtype=int64), array([ 6, 14,  6,  6], dtype=int64), array([15, 10,  5, 15], dtype=int64), array([ 8, 10,  7,  5], dtype=int64), array([ 6, 13, 24, 13], dtype=int64), array([10,  7,  5,  2], dtype=int64), array([5, 4, 4, 5], dtype=int64), array([12,  8, 12, 10], dtype=int64), array([ 6,  9, 11, 14], dtype=int64), array([14, 19, 16, 31], dtype=int64), array([5, 4, 3, 4], dtype=int64), array([ 6, 12, 16, 11], dtype=int64), array([13, 11,  8, 12], dtype=int64), array([18, 14, 15,  9], dtype=int64), array([15,  9,  9, 12], dtype=int64), array([35, 18, 50, 47], dtype=int64), array([14, 15,  9, 18], dtype=int64), array([14, 16, 27, 18], dtype=int64), array([21, 15, 35, 19], dtype=int64), array([7, 4, 5, 4], dtype=int64), array([ 4, 11,  6, 11], dtype=int64), array([2, 2, 4, 4], dtype=int64), array([4, 2, 6, 4], dtype=int64), array([25, 20, 26, 34], dtype=int64), array([53, 42, 50, 35], dtype=int64), array([5, 5, 8, 7], dtype=int64), array([ 8,  8,  5, 11], dtype=int64), array([15,  6, 15, 15], dtype=int64), array([ 5,  7,  2, 11], dtype=int64), array([ 9,  9, 10, 14], dtype=int64), array([11,  6, 11,  7], dtype=int64), array([14, 13,  8, 15], dtype=int64), array([23, 18, 24, 35], dtype=int64), array([15,  5,  9, 15], dtype=int64), array([47, 37, 44, 28], dtype=int64), array([2, 5, 5, 2], dtype=int64), array([26, 24, 42, 55], dtype=int64), array([3, 4, 3, 8], dtype=int64), array([36, 38, 44, 43], dtype=int64), array([4, 2, 4, 4], dtype=int64), array([24, 53, 44, 35], dtype=int64), array([10,  9,  6, 15], dtype=int64), array([16, 32, 20, 17], dtype=int64), array([15, 14, 22,  9], dtype=int64), array([29, 27, 16, 23], dtype=int64), array([13, 11,  4, 11], dtype=int64), array([ 3,  9, 11,  9], dtype=int64), array([ 5,  6, 18,  7], dtype=int64), array([11, 18, 28, 18], dtype=int64), array([26, 16, 22, 36], dtype=int64), array([12, 27, 29, 22], dtype=int64), array([18, 19, 17, 11], dtype=int64), array([6, 9, 3, 2], dtype=int64), array([ 5,  9, 14,  8], dtype=int64), array([17, 30, 21, 12], dtype=int64), array([10,  6,  4,  4], dtype=int64), array([ 6, 17, 32, 30], dtype=int64), array([10,  8,  3,  7], dtype=int64), array([ 9, 10, 11,  6], dtype=int64), array([34, 20, 31, 15], dtype=int64), array([10,  3,  8,  7], dtype=int64), array([28, 24, 26, 30], dtype=int64), array([ 9, 22,  7, 12], dtype=int64), array([18, 27, 34, 26], dtype=int64), array([5, 2, 3, 4], dtype=int64), array([1, 4, 4, 3], dtype=int64), array([ 5, 10,  5,  8], dtype=int64), array([15, 19, 24, 10], dtype=int64), array([1, 3, 3, 5], dtype=int64), array([ 4, 13, 18,  5], dtype=int64), array([9, 5, 5, 8], dtype=int64), array([3, 3, 2, 7], dtype=int64), array([26, 10, 20, 19], dtype=int64)]\n"
     ]
    }
   ],
   "source": [
    "from common import features\n",
    "from scipy.cluster.vq import kmeans2\n",
    "\n",
    "#init.\n",
    "step_size = 15\n",
    "cell_size = 3\n",
    "n_centroids = 4\n",
    "histograms=[]\n",
    "namesOfwords=[]\n",
    "# ?müssen wir wir erst wieder die visu. Words finden (scannen aller Bilder)\n",
    "#For all Images:\n",
    "#- Change Color scale to gray\n",
    "#- build SIFT representation\n",
    "for word in wordImageList:\n",
    "    image=np.array(word[0])\n",
    "\n",
    "    frames, desc = features.compute_sift_descriptors(image,step_size = 15,cell_size = 3)\n",
    "\n",
    "    #Open CV nutzen \n",
    "\n",
    "    #clustering of SIFT descriptors\n",
    "    # ?sollten wir nicht villeicht lieber mit den Zentruiden arbeiten?\n",
    "    # Wurde schon auf 8 Hautrichtungen quantisiert?\n",
    "    centroid, labels = kmeans2(desc, n_centroids, iter=20, minit='points')\n",
    "\n",
    "    #Warum erstellen wir wieder ein Histogramm?\n",
    "    # Reicht es nicht aus mit den Zentruiden zu arbeiten?\n",
    "    hist = np.bincount(labels)\n",
    "    histograms.append(hist)\n",
    "    namesOfwords.append(word[1])\n",
    "\n",
    "print(histograms)"
   ],
   "metadata": {
    "collapsed": false,
    "pycharm": {
     "name": "#%%\n"
    }
   }
  },
  {
   "cell_type": "code",
   "execution_count": 372,
   "metadata": {
    "collapsed": false,
    "pycharm": {
     "name": "#%%\n"
    }
   },
   "outputs": [],
   "source": [
    "test=np.array([[ 5, 22, 17, 16]])"
   ]
  },
  {
   "cell_type": "code",
   "execution_count": 373,
   "metadata": {
    "collapsed": false,
    "pycharm": {
     "name": "#%%\n"
    }
   },
   "outputs": [
    {
     "data": {
      "text/plain": "array([['the', 'for', 'only']], dtype='<U4')"
     },
     "execution_count": 373,
     "metadata": {},
     "output_type": "execute_result"
    }
   ],
   "source": [
    "\"\"\"\n",
    "\n",
    "from common.classification import KNNClassifier\n",
    "import scipy.spatial.distance as ds\n",
    "\n",
    "\n",
    "knn_classifier = KNNClassifier(k_neighbors=3, metric='euclidean')\n",
    "knn_classifier.estimate(train_samples=histograms[:3],train_labels=train_labels)\n",
    "knn_test_labels = knn_classifier.classify2(test_samples=test)\n",
    "knn_test_labels\n",
    "\n",
    "\n",
    "\"\"\"\n",
    "\n",
    "\n",
    "\n"
   ]
  },
  {
   "cell_type": "code",
   "execution_count": 374,
   "metadata": {
    "collapsed": false,
    "pycharm": {
     "name": "#%%\n"
    }
   },
   "outputs": [
    {
     "data": {
      "text/plain": "\"\\n\\n\\n\\n\\nfrom matplotlib.patches import Circle, Rectangle\\nfrom matplotlib.lines import Line2D\\n\\ndraw_descriptor_cells = True\\nfig = plt.figure()\\nax = fig.add_subplot(111)\\nax.imshow(im_arr, cmap=cm.get_cmap('Greys_r'))\\nax.autoscale(enable=False)\\ncolormap = cm.get_cmap('jet')\\ndesc_len = cell_size * 4\\nfor (x, y), label in zip(frames, labels):\\n    color = colormap(label / float(n_centroids))\\n    circle = Circle((x, y), radius=1, fc=color, ec=color, alpha=1)\\n    rect = Rectangle((x - desc_len / 2, y - desc_len / 2),\\n                     desc_len, desc_len, alpha=0.08, lw=1)\\n    ax.add_patch(circle)\\n    if draw_descriptor_cells:\\n        for p_factor in [0.25, 0.5, 0.75]:\\n            offset_dyn = desc_len * (0.5 - p_factor)\\n            offset_stat = desc_len * 0.5\\n            line_h = Line2D((x - offset_stat, x + offset_stat),\\n                            (y - offset_dyn, y - offset_dyn), alpha=0.08, lw=1)\\n            line_v = Line2D((x - offset_dyn, x - offset_dyn),\\n                            (y - offset_stat, y + offset_stat), alpha=0.08, lw=1)\\n            ax.add_line(line_h)\\n            ax.add_line(line_v)\\n    ax.add_patch(rect)\\nplt.show()\\n\\n\\nhist = np.bincount(labels)\\nhist\\n\\n\\ny_values=hist\\nx_pos = np.arange(len(y_values))\\nfig = plt.figure()\\nax = fig.add_subplot(111)\\nax.bar(x_pos, y_values, width=0.9, align='center', alpha=0.4,color=[colormap(i / float(n_centroids)) for i in x_pos])\\n\\nax.set_xticks(x_pos)\\nplt.show()\\n\""
     },
     "execution_count": 374,
     "metadata": {},
     "output_type": "execute_result"
    }
   ],
   "source": [
    "\"\"\"\n",
    "\n",
    "def classify1k(train_samples, train_labels,test_samples, metric='euclidean'):\n",
    "    distances = ds.cdist(train_samples, test_samples, metric=metric)\n",
    "    test_labels_indices = np.argmin(distances, axis=0)\n",
    "    return train_labels[test_labels_indices]\n",
    "\n",
    "\n",
    "result=classify1k(train_samples=histograms[:3],train_labels=train_labels,test_samples=test,metric='euclidean')\n",
    "result\n",
    "\"\"\"\n",
    "\n",
    "\n",
    "'''\n",
    "\n",
    "\n",
    "\n",
    "\n",
    "from matplotlib.patches import Circle, Rectangle\n",
    "from matplotlib.lines import Line2D\n",
    "\n",
    "draw_descriptor_cells = True\n",
    "fig = plt.figure()\n",
    "ax = fig.add_subplot(111)\n",
    "ax.imshow(im_arr, cmap=cm.get_cmap('Greys_r'))\n",
    "ax.autoscale(enable=False)\n",
    "colormap = cm.get_cmap('jet')\n",
    "desc_len = cell_size * 4\n",
    "for (x, y), label in zip(frames, labels):\n",
    "    color = colormap(label / float(n_centroids))\n",
    "    circle = Circle((x, y), radius=1, fc=color, ec=color, alpha=1)\n",
    "    rect = Rectangle((x - desc_len / 2, y - desc_len / 2),\n",
    "                     desc_len, desc_len, alpha=0.08, lw=1)\n",
    "    ax.add_patch(circle)\n",
    "    if draw_descriptor_cells:\n",
    "        for p_factor in [0.25, 0.5, 0.75]:\n",
    "            offset_dyn = desc_len * (0.5 - p_factor)\n",
    "            offset_stat = desc_len * 0.5\n",
    "            line_h = Line2D((x - offset_stat, x + offset_stat),\n",
    "                            (y - offset_dyn, y - offset_dyn), alpha=0.08, lw=1)\n",
    "            line_v = Line2D((x - offset_dyn, x - offset_dyn),\n",
    "                            (y - offset_stat, y + offset_stat), alpha=0.08, lw=1)\n",
    "            ax.add_line(line_h)\n",
    "            ax.add_line(line_v)\n",
    "    ax.add_patch(rect)\n",
    "plt.show()\n",
    "\n",
    "\n",
    "hist = np.bincount(labels)\n",
    "hist\n",
    "\n",
    "\n",
    "y_values=hist\n",
    "x_pos = np.arange(len(y_values))\n",
    "fig = plt.figure()\n",
    "ax = fig.add_subplot(111)\n",
    "ax.bar(x_pos, y_values, width=0.9, align='center', alpha=0.4,color=[colormap(i / float(n_centroids)) for i in x_pos])\n",
    "\n",
    "ax.set_xticks(x_pos)\n",
    "plt.show()\n",
    "'''\n",
    "\n",
    "\n",
    "\n",
    "\n",
    "\n"
   ]
  }
 ],
 "metadata": {
  "kernelspec": {
   "display_name": "Python 3.8.9 64-bit",
   "language": "python",
   "name": "python3"
  },
  "language_info": {
   "codemirror_mode": {
    "name": "ipython",
    "version": 3
   },
   "file_extension": ".py",
   "mimetype": "text/x-python",
   "name": "python",
   "nbconvert_exporter": "python",
   "pygments_lexer": "ipython3",
   "version": "3.8.9"
  },
  "vscode": {
   "interpreter": {
    "hash": "31f2aee4e71d21fbe5cf8b01ff0e069b9275f58929596ceb00d14d90e3e16cd6"
   }
  }
 },
 "nbformat": 4,
 "nbformat_minor": 0
}