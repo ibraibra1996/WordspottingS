{
 "cells": [
  {
   "cell_type": "markdown",
   "metadata": {
    "collapsed": false
   },
   "source": []
  },
  {
   "cell_type": "markdown",
   "metadata": {},
   "source": [
    "# BagOfFeatures"
   ]
  },
  {
   "cell_type": "markdown",
   "metadata": {},
   "source": [
    "### Import-Section"
   ]
  },
  {
   "cell_type": "code",
   "execution_count": 3,
   "metadata": {
    "collapsed": true
   },
   "outputs": [],
   "source": [
    "%load_ext autoreload\n",
    "%autoreload 2\n",
    "%matplotlib widget\n",
    "\n",
    "import scipy.signal\n",
    "import numpy as np\n",
    "import matplotlib.cm as cm\n",
    "import matplotlib.pyplot as plt\n",
    "import PIL.Image as Image\n",
    "\n",
    "# matplotlib.use('Qt5Agg')\n",
    "\n",
    "import cv2\n",
    "import numpy as np\n",
    "import os\n",
    "import pickle\n",
    "\n",
    "\n"
   ]
  },
  {
   "cell_type": "code",
   "execution_count": 4,
   "metadata": {
    "collapsed": false,
    "pycharm": {
     "name": "#%%\n"
    }
   },
   "outputs": [],
   "source": [
    "from common import features\n",
    "\n",
    "wordnames=['2700270_for.png','2700270_only.png','2700270_the.png','2700270_you.png','2700270_the1.png']\n",
    "step_size = 15\n",
    "cell_size = 3\n",
    "from scipy.cluster.vq import kmeans2\n",
    "n_centroids = 4\n",
    "histograms=[]\n",
    "for i in range(5):\n",
    "    document_image_filename = os.path.join('pages', wordnames[i])\n",
    "    img = cv2.imread(document_image_filename)\n",
    "    gray = cv2.cvtColor(img,cv2.COLOR_RGB2GRAY)\n",
    "\n",
    "    #sift = cv2.SIFT_create()\n",
    "    #kp = sift.detect(gray,None)\n",
    "    #desc = sift.compute(gray,kp)\n",
    "    frames, desc = features.compute_sift_descriptors(gray,step_size = 15,cell_size = 3)\n",
    "\n",
    "    _, labels = kmeans2(desc, n_centroids, iter=20, minit='points')\n",
    "\n",
    "    hist = np.bincount(labels)\n",
    "    histograms.append(hist)\n",
    "\n",
    "\n",
    "train_labels=np.array([['for'],\n",
    "                       ['only'],\n",
    "                       ['the'],\n",
    "                       ['you']])"
   ]
  },
  {
   "cell_type": "code",
   "execution_count": 5,
   "metadata": {
    "collapsed": false,
    "pycharm": {
     "name": "#%%\n"
    }
   },
   "outputs": [],
   "source": [
    "test=np.array([[ 5, 22, 17, 16]])"
   ]
  },
  {
   "cell_type": "code",
   "execution_count": 8,
   "metadata": {
    "collapsed": false,
    "pycharm": {
     "name": "#%%\n"
    }
   },
   "outputs": [
    {
     "data": {
      "text/plain": [
       "array([['f'],\n",
       "       ['o']], dtype='<U1')"
      ]
     },
     "execution_count": 8,
     "metadata": {},
     "output_type": "execute_result"
    }
   ],
   "source": [
    "from common.classification import KNNClassifier\n",
    "import scipy.spatial.distance as ds\n",
    "\n",
    "\n",
    "knn_classifier = KNNClassifier(k_neighbors=2, metric='euclidean')\n",
    "knn_classifier.estimate(train_samples=histograms[:3],train_labels=train_labels)\n",
    "knn_test_labels = knn_classifier.classify(test_samples=test)\n",
    "knn_test_labels\n",
    "\n",
    "\n",
    "\n"
   ]
  },
  {
   "cell_type": "code",
   "execution_count": 7,
   "metadata": {
    "collapsed": false,
    "pycharm": {
     "name": "#%%\n"
    }
   },
   "outputs": [
    {
     "data": {
      "text/plain": [
       "\"\\n\\n\\n\\n\\nfrom matplotlib.patches import Circle, Rectangle\\nfrom matplotlib.lines import Line2D\\n\\ndraw_descriptor_cells = True\\nfig = plt.figure()\\nax = fig.add_subplot(111)\\nax.imshow(im_arr, cmap=cm.get_cmap('Greys_r'))\\nax.autoscale(enable=False)\\ncolormap = cm.get_cmap('jet')\\ndesc_len = cell_size * 4\\nfor (x, y), label in zip(frames, labels):\\n    color = colormap(label / float(n_centroids))\\n    circle = Circle((x, y), radius=1, fc=color, ec=color, alpha=1)\\n    rect = Rectangle((x - desc_len / 2, y - desc_len / 2),\\n                     desc_len, desc_len, alpha=0.08, lw=1)\\n    ax.add_patch(circle)\\n    if draw_descriptor_cells:\\n        for p_factor in [0.25, 0.5, 0.75]:\\n            offset_dyn = desc_len * (0.5 - p_factor)\\n            offset_stat = desc_len * 0.5\\n            line_h = Line2D((x - offset_stat, x + offset_stat),\\n                            (y - offset_dyn, y - offset_dyn), alpha=0.08, lw=1)\\n            line_v = Line2D((x - offset_dyn, x - offset_dyn),\\n                            (y - offset_stat, y + offset_stat), alpha=0.08, lw=1)\\n            ax.add_line(line_h)\\n            ax.add_line(line_v)\\n    ax.add_patch(rect)\\nplt.show()\\n\\n\\nhist = np.bincount(labels)\\nhist\\n\\n\\ny_values=hist\\nx_pos = np.arange(len(y_values))\\nfig = plt.figure()\\nax = fig.add_subplot(111)\\nax.bar(x_pos, y_values, width=0.9, align='center', alpha=0.4,color=[colormap(i / float(n_centroids)) for i in x_pos])\\n\\nax.set_xticks(x_pos)\\nplt.show()\\n\""
      ]
     },
     "execution_count": 7,
     "metadata": {},
     "output_type": "execute_result"
    }
   ],
   "source": [
    "\"\"\"\n",
    "\n",
    "def classify1k(train_samples, train_labels,test_samples, metric='euclidean'):\n",
    "    distances = ds.cdist(train_samples, test_samples, metric=metric)\n",
    "    test_labels_indices = np.argmin(distances, axis=0)\n",
    "    return train_labels[test_labels_indices]\n",
    "\n",
    "\n",
    "result=classify1k(train_samples=histograms[:3],train_labels=train_labels,test_samples=test,metric='euclidean')\n",
    "result\n",
    "\"\"\"\n",
    "\n",
    "\n",
    "'''\n",
    "\n",
    "\n",
    "\n",
    "\n",
    "from matplotlib.patches import Circle, Rectangle\n",
    "from matplotlib.lines import Line2D\n",
    "\n",
    "draw_descriptor_cells = True\n",
    "fig = plt.figure()\n",
    "ax = fig.add_subplot(111)\n",
    "ax.imshow(im_arr, cmap=cm.get_cmap('Greys_r'))\n",
    "ax.autoscale(enable=False)\n",
    "colormap = cm.get_cmap('jet')\n",
    "desc_len = cell_size * 4\n",
    "for (x, y), label in zip(frames, labels):\n",
    "    color = colormap(label / float(n_centroids))\n",
    "    circle = Circle((x, y), radius=1, fc=color, ec=color, alpha=1)\n",
    "    rect = Rectangle((x - desc_len / 2, y - desc_len / 2),\n",
    "                     desc_len, desc_len, alpha=0.08, lw=1)\n",
    "    ax.add_patch(circle)\n",
    "    if draw_descriptor_cells:\n",
    "        for p_factor in [0.25, 0.5, 0.75]:\n",
    "            offset_dyn = desc_len * (0.5 - p_factor)\n",
    "            offset_stat = desc_len * 0.5\n",
    "            line_h = Line2D((x - offset_stat, x + offset_stat),\n",
    "                            (y - offset_dyn, y - offset_dyn), alpha=0.08, lw=1)\n",
    "            line_v = Line2D((x - offset_dyn, x - offset_dyn),\n",
    "                            (y - offset_stat, y + offset_stat), alpha=0.08, lw=1)\n",
    "            ax.add_line(line_h)\n",
    "            ax.add_line(line_v)\n",
    "    ax.add_patch(rect)\n",
    "plt.show()\n",
    "\n",
    "\n",
    "hist = np.bincount(labels)\n",
    "hist\n",
    "\n",
    "\n",
    "y_values=hist\n",
    "x_pos = np.arange(len(y_values))\n",
    "fig = plt.figure()\n",
    "ax = fig.add_subplot(111)\n",
    "ax.bar(x_pos, y_values, width=0.9, align='center', alpha=0.4,color=[colormap(i / float(n_centroids)) for i in x_pos])\n",
    "\n",
    "ax.set_xticks(x_pos)\n",
    "plt.show()\n",
    "'''\n",
    "\n",
    "\n",
    "\n",
    "\n",
    "\n"
   ]
  }
 ],
 "metadata": {
  "kernelspec": {
   "display_name": "Python 3.8.9 64-bit",
   "language": "python",
   "name": "python3"
  },
  "language_info": {
   "codemirror_mode": {
    "name": "ipython",
    "version": 3
   },
   "file_extension": ".py",
   "mimetype": "text/x-python",
   "name": "python",
   "nbconvert_exporter": "python",
   "pygments_lexer": "ipython3",
   "version": "3.8.9"
  },
  "vscode": {
   "interpreter": {
    "hash": "31f2aee4e71d21fbe5cf8b01ff0e069b9275f58929596ceb00d14d90e3e16cd6"
   }
  }
 },
 "nbformat": 4,
 "nbformat_minor": 0
}
