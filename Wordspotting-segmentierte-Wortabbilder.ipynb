{
 "cells": [
  {
   "cell_type": "code",
   "execution_count": 2,
   "metadata": {},
   "outputs": [],
   "source": [
    "%load_ext autoreload\n",
    "%autoreload 2\n",
    "%matplotlib widget\n"
   ]
  },
  {
   "cell_type": "code",
   "execution_count": 3,
   "outputs": [
    {
     "name": "stdout",
     "output_type": "stream",
     "text": [
      "_____________\n",
      "_____________\n",
      "_____________\n",
      "_____________\n",
      "_____________\n",
      "_____________\n",
      "_____________\n",
      "_____________\n",
      "_____________\n",
      "_____________\n",
      "_____________\n",
      "_____________\n",
      "_____________\n",
      "_____________\n",
      "_____________\n",
      "_____________\n",
      "_____________\n",
      "_____________\n"
     ]
    }
   ],
   "source": [
    "from common.pca import PCAExample\n",
    "import numpy as np\n",
    "import scipy.spatial.distance as ds\n",
    "from bagOfFeatures.bofFunctions import ImagePrep\n",
    "from Eval import Eval\n",
    "\n",
    "import matplotlib.pyplot as plt\n",
    "from common.pca import PCAExample\n",
    "\n",
    "resultList=Eval.evaluation()"
   ],
   "metadata": {
    "collapsed": false,
    "pycharm": {
     "name": "#%%\n"
    }
   }
  },
  {
   "cell_type": "code",
   "execution_count": 13,
   "outputs": [
    {
     "data": {
      "text/plain": "     Well    Por  Perm    AI  Brittle   TOC    VR         Prod\n0       1  12.08  2.92  2.80    81.40  1.16  2.31  4165.196191\n1       2  12.38  3.53  3.22    46.17  0.89  1.88  3561.146205\n2       3  14.02  2.59  4.01    72.80  0.89  2.72  4284.348574\n3       4  17.67  6.75  2.63    39.81  1.08  1.88  5098.680869\n4       5  17.52  4.57  3.18    10.94  1.51  1.90  3406.132832\n..    ...    ...   ...   ...      ...   ...   ...          ...\n195   196  11.95  3.13  2.97    67.18  0.80  2.06  3847.571003\n196   197  17.99  9.87  3.38    44.32  0.98  2.08  5601.227131\n197   198  12.12  2.27  3.52    57.07 -0.04  1.73  3409.575363\n198   199  15.55  4.48  2.48    58.25  1.89  2.35  5087.592149\n199   200  20.89  7.54  3.23    46.17  1.71  2.27  6662.622385\n\n[200 rows x 8 columns]",
      "text/html": "<div>\n<style scoped>\n    .dataframe tbody tr th:only-of-type {\n        vertical-align: middle;\n    }\n\n    .dataframe tbody tr th {\n        vertical-align: top;\n    }\n\n    .dataframe thead th {\n        text-align: right;\n    }\n</style>\n<table border=\"1\" class=\"dataframe\">\n  <thead>\n    <tr style=\"text-align: right;\">\n      <th></th>\n      <th>Well</th>\n      <th>Por</th>\n      <th>Perm</th>\n      <th>AI</th>\n      <th>Brittle</th>\n      <th>TOC</th>\n      <th>VR</th>\n      <th>Prod</th>\n    </tr>\n  </thead>\n  <tbody>\n    <tr>\n      <th>0</th>\n      <td>1</td>\n      <td>12.08</td>\n      <td>2.92</td>\n      <td>2.80</td>\n      <td>81.40</td>\n      <td>1.16</td>\n      <td>2.31</td>\n      <td>4165.196191</td>\n    </tr>\n    <tr>\n      <th>1</th>\n      <td>2</td>\n      <td>12.38</td>\n      <td>3.53</td>\n      <td>3.22</td>\n      <td>46.17</td>\n      <td>0.89</td>\n      <td>1.88</td>\n      <td>3561.146205</td>\n    </tr>\n    <tr>\n      <th>2</th>\n      <td>3</td>\n      <td>14.02</td>\n      <td>2.59</td>\n      <td>4.01</td>\n      <td>72.80</td>\n      <td>0.89</td>\n      <td>2.72</td>\n      <td>4284.348574</td>\n    </tr>\n    <tr>\n      <th>3</th>\n      <td>4</td>\n      <td>17.67</td>\n      <td>6.75</td>\n      <td>2.63</td>\n      <td>39.81</td>\n      <td>1.08</td>\n      <td>1.88</td>\n      <td>5098.680869</td>\n    </tr>\n    <tr>\n      <th>4</th>\n      <td>5</td>\n      <td>17.52</td>\n      <td>4.57</td>\n      <td>3.18</td>\n      <td>10.94</td>\n      <td>1.51</td>\n      <td>1.90</td>\n      <td>3406.132832</td>\n    </tr>\n    <tr>\n      <th>...</th>\n      <td>...</td>\n      <td>...</td>\n      <td>...</td>\n      <td>...</td>\n      <td>...</td>\n      <td>...</td>\n      <td>...</td>\n      <td>...</td>\n    </tr>\n    <tr>\n      <th>195</th>\n      <td>196</td>\n      <td>11.95</td>\n      <td>3.13</td>\n      <td>2.97</td>\n      <td>67.18</td>\n      <td>0.80</td>\n      <td>2.06</td>\n      <td>3847.571003</td>\n    </tr>\n    <tr>\n      <th>196</th>\n      <td>197</td>\n      <td>17.99</td>\n      <td>9.87</td>\n      <td>3.38</td>\n      <td>44.32</td>\n      <td>0.98</td>\n      <td>2.08</td>\n      <td>5601.227131</td>\n    </tr>\n    <tr>\n      <th>197</th>\n      <td>198</td>\n      <td>12.12</td>\n      <td>2.27</td>\n      <td>3.52</td>\n      <td>57.07</td>\n      <td>-0.04</td>\n      <td>1.73</td>\n      <td>3409.575363</td>\n    </tr>\n    <tr>\n      <th>198</th>\n      <td>199</td>\n      <td>15.55</td>\n      <td>4.48</td>\n      <td>2.48</td>\n      <td>58.25</td>\n      <td>1.89</td>\n      <td>2.35</td>\n      <td>5087.592149</td>\n    </tr>\n    <tr>\n      <th>199</th>\n      <td>200</td>\n      <td>20.89</td>\n      <td>7.54</td>\n      <td>3.23</td>\n      <td>46.17</td>\n      <td>1.71</td>\n      <td>2.27</td>\n      <td>6662.622385</td>\n    </tr>\n  </tbody>\n</table>\n<p>200 rows × 8 columns</p>\n</div>"
     },
     "execution_count": 13,
     "metadata": {},
     "output_type": "execute_result"
    }
   ],
   "source": [
    "import numpy as np\n",
    "import pandas as pd\n",
    "# define the data/predictors as the pre-set\n",
    "import pandas as pd\n",
    "\n",
    "file = 'https://aegis4048.github.io/downloads/notebooks/sample_data/unconv_MV_v5.csv'\n",
    "df = pd.read_csv(file)\n",
    "\n",
    "df"
   ],
   "metadata": {
    "collapsed": false,
    "pycharm": {
     "name": "#%%\n"
    }
   }
  },
  {
   "cell_type": "code",
   "execution_count": 3,
   "outputs": [
    {
     "ename": "ModuleNotFoundError",
     "evalue": "No module named 'sklearn'",
     "output_type": "error",
     "traceback": [
      "\u001B[1;31m---------------------------------------------------------------------------\u001B[0m",
      "\u001B[1;31mModuleNotFoundError\u001B[0m                       Traceback (most recent call last)",
      "Input \u001B[1;32mIn [3]\u001B[0m, in \u001B[0;36m<cell line: 7>\u001B[1;34m()\u001B[0m\n\u001B[0;32m      5\u001B[0m \u001B[38;5;28;01mimport\u001B[39;00m \u001B[38;5;21;01mwarnings\u001B[39;00m\n\u001B[0;32m      6\u001B[0m \u001B[38;5;66;03m## Building Model\u001B[39;00m\n\u001B[1;32m----> 7\u001B[0m \u001B[38;5;28;01mfrom\u001B[39;00m \u001B[38;5;21;01msklearn\u001B[39;00m \u001B[38;5;28;01mimport\u001B[39;00m linear_model\n\u001B[0;32m      8\u001B[0m \u001B[38;5;28;01mfrom\u001B[39;00m \u001B[38;5;21;01mscipy\u001B[39;00m \u001B[38;5;28;01mimport\u001B[39;00m stats\n\u001B[0;32m      9\u001B[0m \u001B[38;5;28;01mimport\u001B[39;00m \u001B[38;5;21;01mstatsmodels\u001B[39;00m\n",
      "\u001B[1;31mModuleNotFoundError\u001B[0m: No module named 'sklearn'"
     ]
    }
   ],
   "source": [],
   "metadata": {
    "collapsed": false,
    "pycharm": {
     "name": "#%%\n"
    }
   }
  },
  {
   "cell_type": "code",
   "execution_count": 1,
   "outputs": [
    {
     "ename": "NameError",
     "evalue": "name 'ImagePrep' is not defined",
     "output_type": "error",
     "traceback": [
      "\u001B[1;31m---------------------------------------------------------------------------\u001B[0m",
      "\u001B[1;31mNameError\u001B[0m                                 Traceback (most recent call last)",
      "Input \u001B[1;32mIn [1]\u001B[0m, in \u001B[0;36m<cell line: 8>\u001B[1;34m()\u001B[0m\n\u001B[0;32m      5\u001B[0m \u001B[38;5;66;03m#namesOfWords = ['a', 'b', 'c','d','e','f']\u001B[39;00m\n\u001B[0;32m      6\u001B[0m \u001B[38;5;66;03m#histograms = [[0, 0], [1, 1], [2, 2],[1, 1],[0,0],[1,2]]\u001B[39;00m\n\u001B[0;32m      8\u001B[0m \u001B[38;5;28;01mfor\u001B[39;00m i \u001B[38;5;129;01min\u001B[39;00m \u001B[38;5;28mrange\u001B[39m(\u001B[38;5;28mlen\u001B[39m(namesOfWords)):\n\u001B[1;32m----> 9\u001B[0m     precision \u001B[38;5;241m=\u001B[39m \u001B[43mImagePrep\u001B[49m\u001B[38;5;241m.\u001B[39mresultListForPrecision(histograms\u001B[38;5;241m=\u001B[39mhistograms,\n\u001B[0;32m     10\u001B[0m                                                      namesOfWords\u001B[38;5;241m=\u001B[39mnamesOfWords,\n\u001B[0;32m     11\u001B[0m                                                      queryIndex\u001B[38;5;241m=\u001B[39mi)\n\u001B[0;32m     13\u001B[0m     queryWordHistogram \u001B[38;5;241m=\u001B[39m np\u001B[38;5;241m.\u001B[39mreshape(histograms[i],\n\u001B[0;32m     14\u001B[0m                                         (\u001B[38;5;241m-\u001B[39m\u001B[38;5;241m1\u001B[39m, \u001B[38;5;28mlen\u001B[39m(histograms[i])))\n\u001B[0;32m     15\u001B[0m     queryWordString \u001B[38;5;241m=\u001B[39m namesOfWords[i]\n",
      "\u001B[1;31mNameError\u001B[0m: name 'ImagePrep' is not defined"
     ]
    }
   ],
   "source": [
    "\n",
    "precisionForAllWords = []\n",
    "namesOfWords = ['a', 'b', 'c']\n",
    "histograms = [[1, 1],[0, 0], [2,1],]\n",
    "\n",
    "#namesOfWords = ['a', 'b', 'c','d','e','f']\n",
    "#histograms = [[0, 0], [1, 1], [2, 2],[1, 1],[0,0],[1,2]]\n",
    "\n",
    "for i in range(len(namesOfWords)):\n",
    "    precision = ImagePrep.resultListForPrecision(histograms=histograms,\n",
    "                                                     namesOfWords=namesOfWords,\n",
    "                                                     queryIndex=i)\n",
    "\n",
    "    queryWordHistogram = np.reshape(histograms[i],\n",
    "                                        (-1, len(histograms[i])))\n",
    "    queryWordString = namesOfWords[i]\n",
    "\n",
    "    distances = ds.cdist(histograms, queryWordHistogram, metric='euclidean')\n",
    "    print('------------')\n",
    "\n",
    "    #print(distances)\n",
    "    sortiert2d = np.argsort(distances, axis=0)\n",
    "    #print(sortiert2d)\n",
    "    sortiert1d = sortiert2d.ravel()\n",
    "    #print(sortiert1d)\n",
    "    namesOfwordsSorted = np.array(namesOfWords)[sortiert1d]\n",
    "    print(namesOfwordsSorted)\n",
    "    EntriesWith01 = np.where(namesOfwordsSorted == queryWordString, 1, 0)\n",
    "    print(queryWordString)\n",
    "    print(EntriesWith01)\n",
    "    precisionForAllWords.append(precision)\n",
    "\n",
    "#print(precisionForAllWords)"
   ],
   "metadata": {
    "collapsed": false,
    "pycharm": {
     "name": "#%%\n"
    }
   }
  },
  {
   "cell_type": "code",
   "execution_count": null,
   "outputs": [],
   "source": [
    "distances = ds.cdist(histograms, histograms, metric='euclidean')\n",
    "print('------------')\n",
    "\n",
    "#print(distances)\n",
    "sortiert2d = np.argsort(distances, axis=1)\n",
    "#print(sortiert2d)\n",
    "#sortiert1d = sortiert2d.ravel()\n",
    "#print(sortiert1d)\n",
    "namesOfwordsSorted = np.array(namesOfWords)[sortiert2d]\n",
    "print(namesOfwordsSorted)\n",
    "EntriesWith01 = np.where(namesOfwordsSorted.T == namesOfWords, 1, 0).T\n",
    "\n",
    "\n",
    "print(EntriesWith01)\n",
    "\n",
    "precisionForAllWords.append(precision)\n",
    "\n",
    "print(EntriesWith01[:,1:])\n",
    "\n",
    "\n"
   ],
   "metadata": {
    "collapsed": false,
    "pycharm": {
     "name": "#%%\n"
    }
   }
  },
  {
   "cell_type": "code",
   "execution_count": null,
   "outputs": [],
   "source": [
    "import cv2\n",
    "frames = [(x, y) for x in np.arange(10, 50, 15, dtype=np.float32)\n",
    "              for y in np.arange(10,50, 15, dtype=np.float32)]\n",
    "\n",
    "# Note: In the standard SIFT detector algorithm, the size of the\n",
    "# descriptor cell size is related to the keypoint scal by the magnification factor.\n",
    "# Therefore the size of the is equal to cell_size/magnification_factor (Default: 3)\n",
    "kp = [cv2.KeyPoint(x, y, 3 / 3) for x, y in frames]\n",
    "frames"
   ],
   "metadata": {
    "collapsed": false,
    "pycharm": {
     "name": "#%%\n"
    }
   }
  },
  {
   "cell_type": "markdown",
   "metadata": {},
   "source": [
    "# BagOfFeatures"
   ]
  },
  {
   "cell_type": "markdown",
   "metadata": {},
   "source": [
    "### Import-Section"
   ]
  },
  {
   "cell_type": "code",
   "execution_count": null,
   "metadata": {
    "collapsed": true
   },
   "outputs": [],
   "source": [
    "%load_ext autoreload\n",
    "%autoreload 2\n",
    "%matplotlib widget\n",
    "\n",
    "import scipy.signal\n",
    "import numpy as np\n",
    "import matplotlib.cm as cm\n",
    "import matplotlib.pyplot as plt\n",
    "import PIL.Image as Image\n",
    "\n",
    "# matplotlib.use('Qt5Agg')\n",
    "\n",
    "import cv2\n",
    "import numpy as np\n",
    "import os\n",
    "import pickle\n",
    "\n",
    "\n"
   ]
  },
  {
   "cell_type": "markdown",
   "metadata": {},
   "source": [
    "1. Für den gesamten Datensatz:\n",
    "- Graustufen-Darstellung erzeugen\n",
    "- Auf Vektoren reduzieren (lokale Bild-Deskriptoren - SIFT)\n",
    "\n",
    "2. Visual Vocabulary finden \n",
    "- Clustern\n",
    "- Abbildung von Deskriptoren auf Centruiden\n",
    "\n",
    "3. Distanzen zwischen den Histogrammen vergleichen"
   ]
  },
  {
   "cell_type": "code",
   "execution_count": null,
   "metadata": {
    "collapsed": false,
    "pycharm": {
     "name": "#%%\n"
    }
   },
   "outputs": [],
   "source": [
    "from bagOfFeatures.segmentation import Segmentation\n",
    "from common import features\n",
    "from scipy.cluster.vq import kmeans2\n",
    "documentSegmentation=os.path.join('GT', '2700270.gtp')\n",
    "documentImage=os.path.join('pages', '2700270.png')\n",
    "image=Image.open(documentImage)\n",
    "\n",
    "\n",
    "wordImageList=Segmentation.segmentCut(image, documentSegmentation)\n",
    "len(wordImageList)"
   ]
  },
  {
   "cell_type": "code",
   "execution_count": null,
   "outputs": [],
   "source": [
    "dataNames = [ str(name)+\"0\"+str(name) for name in range(270,280)]+[str(name)+\"0\"+str(name) for name in range(300,310)]\n",
    "for dataName in dataNames:\n",
    "    print(dataName+\".gtp\")"
   ],
   "metadata": {
    "collapsed": false,
    "pycharm": {
     "name": "#%%\n"
    }
   }
  },
  {
   "cell_type": "code",
   "execution_count": null,
   "outputs": [],
   "source": [
    "var = 'myString/n'.splitlines()\n",
    "var"
   ],
   "metadata": {
    "collapsed": false,
    "pycharm": {
     "name": "#%%\n"
    }
   }
  },
  {
   "cell_type": "code",
   "execution_count": null,
   "metadata": {
    "collapsed": false,
    "pycharm": {
     "name": "#%%\n"
    }
   },
   "outputs": [],
   "source": [
    "import pathlib\n",
    "\n",
    "plt.figure()\n",
    "wordImageList[2][3].show()\n",
    "\n",
    "#document_image_filename = os.path.join('pages', wordnames[i])\n",
    "#img = cv2.imread(wordImageList[5][0])\n"
   ]
  },
  {
   "cell_type": "code",
   "execution_count": null,
   "metadata": {
    "collapsed": false,
    "pycharm": {
     "name": "#%%\n"
    }
   },
   "outputs": [],
   "source": [
    "image=np.array(wordImageList[5][0])\n",
    "image\n"
   ]
  },
  {
   "cell_type": "code",
   "execution_count": null,
   "outputs": [],
   "source": [
    "from bagOfFeatures.bofFunctions import ImagePrep\n",
    "\n",
    "baf=ImagePrep.bof(wordImageList)\n",
    "\n",
    "\n"
   ],
   "metadata": {
    "collapsed": false,
    "pycharm": {
     "name": "#%%\n"
    }
   }
  },
  {
   "cell_type": "code",
   "execution_count": null,
   "metadata": {
    "collapsed": false,
    "pycharm": {
     "name": "#%%\n"
    }
   },
   "outputs": [],
   "source": [
    "from common import features\n",
    "from scipy.cluster.vq import kmeans2\n",
    "\n",
    "#init.\n",
    "step_size = 15\n",
    "cell_size = 3\n",
    "n_centroids = 4\n",
    "histograms=[]\n",
    "histogramsLeft=[]\n",
    "histogramsRight=[]\n",
    "namesOfwords=[]\n",
    "#For all Images:\n",
    "#- Change Color scale to gray\n",
    "#- build SIFT representation\n",
    "for word in wordImageList:\n",
    "    image=np.array(word[0])\n",
    "    frames, desc = features.compute_sift_descriptors(image,step_size = 15,cell_size = 3)\n",
    "\n",
    "    #Open CV nutzen\n",
    "\n",
    "    #clustering of SIFT descriptors\n",
    "    centroid, labels = kmeans2(desc, n_centroids, iter=200, minit='points')\n",
    "\n",
    "    hist = np.bincount(labels)\n",
    "    histograms.append(hist.tolist())\n",
    "\n",
    "\n",
    "    imageLeft=np.array(word[2])\n",
    "    framesLeft, descLeft = features.compute_sift_descriptors(imageLeft,step_size = 15,cell_size = 3)\n",
    "\n",
    "    centroidLeft, labelsLeft = kmeans2(descLeft, 4, iter=200, minit='points')\n",
    "\n",
    "    histLeft = np.bincount(labelsLeft)\n",
    "    histogramsLeft.append(histLeft.tolist())\n",
    "\n",
    "\n",
    "    imageRight=np.array(word[3])\n",
    "    framesRight, descRight = features.compute_sift_descriptors(imageRight,step_size = 15,cell_size = 3)\n",
    "\n",
    "    centroidRight, labelsRight = kmeans2(descRight, 4, iter=200, minit='points')\n",
    "\n",
    "    histRight = np.bincount(labelsRight)\n",
    "    histogramsRight.append(histRight.tolist())\n",
    "\n",
    "\n",
    "    namesOfwords.append(word[1])\n",
    "\n",
    "namesOfwords\n",
    "print(np.count_nonzero(namesOfwords ==\"and\\n\"))"
   ]
  },
  {
   "cell_type": "code",
   "execution_count": null,
   "metadata": {
    "collapsed": false,
    "pycharm": {
     "name": "#%%\n"
    }
   },
   "outputs": [],
   "source": [
    "import scipy.spatial.distance as ds\n",
    "def resultListForPrecision(histograms,namesOfwords,queryWordHistogram,queryWordString, metric='euclidean'):\n",
    "    distances = ds.cdist(histograms, [queryWordHistogram], metric=metric)\n",
    "\n",
    "    sortiert2d = np.argsort(distances, axis = 0)\n",
    "\n",
    "    sortiert1d=sortiert2d.ravel()\n",
    "\n",
    "    namesOfwordsSorted=np.array(namesOfwords)[sortiert1d]\n",
    "\n",
    "    EntriesWith01=np.where(namesOfwordsSorted==queryWordString,1,0)\n",
    "\n",
    "    return EntriesWith01\n",
    "\n",
    "precision=resultListForPrecision(histograms=histograms\n",
    "                                 ,namesOfwords=namesOfwords\n",
    "                                 ,queryWordHistogram=histograms[3]\n",
    "                                 ,queryWordString=namesOfwords[3])\n",
    "def averagePrecision(binlist):\n",
    "    sum = 0\n",
    "    numberOfOnes = 0\n",
    "    for i in range(len(binlist)):\n",
    "        if binlist[i] == 1:\n",
    "            numberOfOnes += 1\n",
    "            sum += numberOfOnes / (i + 1)\n",
    "\n",
    "    return sum / numberOfOnes\n",
    "\n",
    "\n",
    "\n",
    "\n",
    "print(averagePrecision(precision))"
   ]
  },
  {
   "cell_type": "code",
   "execution_count": null,
   "metadata": {
    "collapsed": false,
    "pycharm": {
     "name": "#%%\n"
    }
   },
   "outputs": [],
   "source": [
    "\n",
    "from matplotlib.patches import Circle, Rectangle\n",
    "from matplotlib.lines import Line2D\n",
    "\n",
    "def descShow(image=wordImageList[0][0],histogramToShow=histograms[0]):\n",
    "    draw_descriptor_cells = True\n",
    "    fig = plt.figure()\n",
    "    ax = fig.add_subplot(111)\n",
    "    ax.imshow(np.array(image), cmap=cm.get_cmap('Greys_r'))\n",
    "    ax.autoscale(enable=False)\n",
    "    colormap = cm.get_cmap('jet')\n",
    "    desc_len = cell_size * 4\n",
    "    for (x, y), label in zip(frames, labels):\n",
    "        color = colormap(label / float(len(histogramToShow)))\n",
    "        circle = Circle((x, y), radius=1, fc=color, ec=color, alpha=1)\n",
    "        rect = Rectangle((x - desc_len / 2, y - desc_len / 2),\n",
    "                         desc_len, desc_len, alpha=0.08, lw=1)\n",
    "        ax.add_patch(circle)\n",
    "        if draw_descriptor_cells:\n",
    "            for p_factor in [0.25, 0.5, 0.75]:\n",
    "                offset_dyn = desc_len * (0.5 - p_factor)\n",
    "                offset_stat = desc_len * 0.5\n",
    "                line_h = Line2D((x - offset_stat, x + offset_stat),\n",
    "                                (y - offset_dyn, y - offset_dyn), alpha=0.08, lw=1)\n",
    "                line_v = Line2D((x - offset_dyn, x - offset_dyn),\n",
    "                                (y - offset_stat, y + offset_stat), alpha=0.08, lw=1)\n",
    "                ax.add_line(line_h)\n",
    "                ax.add_line(line_v)\n",
    "        ax.add_patch(rect)\n",
    "\n",
    "    y_values=histogramToShow\n",
    "    x_pos = np.arange(len(y_values))\n",
    "    fig = plt.figure()\n",
    "    ax = fig.add_subplot(111)\n",
    "    ax.bar(x_pos, y_values, width=0.9, align='center', alpha=0.4,color=[colormap(i / float(len(histogramToShow))) for i in x_pos])\n",
    "\n",
    "    ax.set_xticks(x_pos)\n",
    "    plt.show()\n"
   ]
  },
  {
   "cell_type": "code",
   "execution_count": null,
   "outputs": [],
   "source": [
    "descShow(image=wordImageList[0][0],histogramToShow=histograms[0])"
   ],
   "metadata": {
    "collapsed": false,
    "pycharm": {
     "name": "#%%\n"
    }
   }
  },
  {
   "cell_type": "code",
   "execution_count": null,
   "outputs": [],
   "source": [
    "#descShow(image=wordImageList[0][2],histogramToShow=histogramsLeft[0])\n",
    "\n",
    "\n",
    "[1,2,3]+[1,2,3,3]"
   ],
   "metadata": {
    "collapsed": false,
    "pycharm": {
     "name": "#%%\n"
    }
   }
  },
  {
   "cell_type": "code",
   "execution_count": null,
   "outputs": [],
   "source": [
    "descShow(image=wordImageList[0][3],histogramToShow=histogramsRight[0])"
   ],
   "metadata": {
    "collapsed": false,
    "pycharm": {
     "name": "#%%\n"
    }
   }
  },
  {
   "cell_type": "code",
   "execution_count": null,
   "outputs": [],
   "source": [
    "def descShow(image, histogramToShow, frames, labels, cell_size):\n",
    "    draw_descriptor_cells = True\n",
    "    fig = plt.figure()\n",
    "    ax = fig.add_subplot(111)\n",
    "    ax.imshow(np.array(image), cmap=cm.get_cmap('Greys_r'))\n",
    "    ax.autoscale(enable=False)\n",
    "    colormap = cm.get_cmap('jet')\n",
    "    desc_len = cell_size * 4\n",
    "    for (x, y), label in zip(frames, labels):\n",
    "        color = colormap(label / float(len(histogramToShow)))\n",
    "        circle = Circle((x, y), radius=1, fc=color, ec=color, alpha=1)\n",
    "        rect = Rectangle((x - desc_len / 2, y - desc_len / 2),\n",
    "                         desc_len, desc_len, alpha=0.08, lw=1)\n",
    "        ax.add_patch(circle)\n",
    "        if draw_descriptor_cells:\n",
    "            for p_factor in [0.25, 0.5, 0.75]:\n",
    "                offset_dyn = desc_len * (0.5 - p_factor)\n",
    "                offset_stat = desc_len * 0.5\n",
    "                line_h = Line2D((x - offset_stat, x + offset_stat),\n",
    "                                (y - offset_dyn, y - offset_dyn), alpha=0.08, lw=1)\n",
    "                line_v = Line2D((x - offset_dyn, x - offset_dyn),\n",
    "                                (y - offset_stat, y + offset_stat), alpha=0.08, lw=1)\n",
    "                ax.add_line(line_h)\n",
    "                ax.add_line(line_v)\n",
    "        ax.add_patch(rect)\n",
    "\n",
    "    y_values = histogramToShow\n",
    "    x_pos = np.arange(len(y_values))\n",
    "    fig = plt.figure()\n",
    "    ax = fig.add_subplot(111)\n",
    "    ax.bar(x_pos, y_values, width=0.9, align='center', alpha=0.4,\n",
    "           color=[colormap(i / float(len(histogramToShow))) for i in x_pos])\n",
    "\n",
    "    ax.set_xticks(x_pos)\n",
    "    plt.show()\n"
   ],
   "metadata": {
    "collapsed": false,
    "pycharm": {
     "name": "#%%\n"
    }
   }
  }
 ],
 "metadata": {
  "kernelspec": {
   "name": "python3",
   "language": "python",
   "display_name": "Python 3 (ipykernel)"
  },
  "language_info": {
   "codemirror_mode": {
    "name": "ipython",
    "version": 3
   },
   "file_extension": ".py",
   "mimetype": "text/x-python",
   "name": "python",
   "nbconvert_exporter": "python",
   "pygments_lexer": "ipython3",
   "version": "3.8.9"
  },
  "vscode": {
   "interpreter": {
    "hash": "31f2aee4e71d21fbe5cf8b01ff0e069b9275f58929596ceb00d14d90e3e16cd6"
   }
  }
 },
 "nbformat": 4,
 "nbformat_minor": 0
}