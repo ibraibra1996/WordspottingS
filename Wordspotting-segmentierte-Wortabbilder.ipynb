{
 "cells": [
  {
   "cell_type": "markdown",
   "source": [],
   "metadata": {
    "collapsed": false
   "source": []
  },
  {
   "cell_type": "code",
   "execution_count": 65,
   "metadata": {
    "collapsed": true
   },
   "outputs": [
    {
     "name": "stdout",
     "output_type": "stream",
     "text": [
      "The autoreload extension is already loaded. To reload it, use:\n",
      "  %reload_ext autoreload\n"
     ]
    }
   ],
   "source": [
    "%load_ext autoreload\n",
    "%autoreload 2\n",
    "%matplotlib widget\n",
    "\n",
    "import scipy.signal\n",
    "import numpy as np\n",
    "import matplotlib.cm as cm\n",
    "import matplotlib.pyplot as plt\n",
    "import PIL.Image as Image\n",
    "\n",
    "# matplotlib.use('Qt5Agg')\n",
    "\n",
    "import cv2\n",
    "import numpy as np\n",
    "import os\n",
    "import pickle\n"
   ]
  },
  {
   "cell_type": "code",
   "execution_count": 66,
   "outputs": [],
   "source": [
    "def compute_sift_descriptors(im_arr, cell_size=5, step_size=20):\n",
    "    \"\"\"\n",
    "    Berechnet SIFT Deskriptoren in einem regulären Gitter\n",
    "\n",
    "    Params:\n",
    "        im_array: ndarray, mit dem Eingabebild in Graustufen (n x n x 1)\n",
    "        cell_size: int, Größe einer Zelle des SIFT Deskriptors in Pixeln\n",
    "        step_size: int, Schrittweite im regulären Gitter in Pixeln\n",
    "\n",
    "    Returns:\n",
    "        frames: list, mit x,y Koordinaten der Deskriptor Mittelpunkte\n",
    "        desc: ndarray, mit den berechneten SIFT Deskriptoren (N x 128)\n",
    "         Deskriptor. desc enthaelt die 128 dimensionalen Vektoren.\n",
    "\n",
    "    \"\"\"\n",
    "    # Generate dense grid\n",
    "    frames = [(x, y) for x in np.arange(10, im_arr.shape[1], step_size, dtype=np.float32)\n",
    "              for y in np.arange(10, im_arr.shape[0], step_size, dtype=np.float32)]\n",
    "\n",
    "    # Note: In the standard SIFT detector algorithm, the size of the\n",
    "    # descriptor cell size is related to the keypoint scal by the magnification factor.\n",
    "    # Therefore the size of the is equal to cell_size/magnification_factor (Default: 3)\n",
    "    kp = [cv2.KeyPoint(x, y, cell_size / 3) for x, y in frames]\n",
    "\n",
    "    sift = cv2.SIFT_create()\n",
    "\n",
    "    sift_features = sift.compute(im_arr, kp)\n",
    "    desc = sift_features[1]\n",
    "    return frames, desc"
   ],
   "metadata": {
    "collapsed": false,
    "pycharm": {
     "name": "#%%\n"
    }
   }
  },
  {
   "cell_type": "code",
   "execution_count": 67,
   "outputs": [],
   "source": [
    "wordnames=['2700270_for.png','2700270_only.png','2700270_the.png','2700270_you.png','2700270_the1.png']\n",
    "step_size = 15\n",
    "cell_size = 3\n",
    "from scipy.cluster.vq import kmeans2\n",
    "n_centroids = 4\n",
    "histograms=[]\n",
    "for i in range(5):\n",
    "    document_image_filename = os.path.join('pages', wordnames[i])\n",
    "    img = cv2.imread(document_image_filename)\n",
    "    gray = cv2.cvtColor(img,cv2.COLOR_RGB2GRAY)\n",
    "\n",
    "    #sift = cv2.SIFT_create()\n",
    "    #kp = sift.detect(gray,None)\n",
    "    #desc = sift.compute(gray,kp)\n",
    "    frames, desc = compute_sift_descriptors(gray,step_size = 15,cell_size = 3)\n",
    "\n",
    "    _, labels = kmeans2(desc, n_centroids, iter=20, minit='points')\n",
    "\n",
    "    hist = np.bincount(labels)\n",
    "    histograms.append(hist)\n",
    "\n",
    "\n",
    "train_labels=np.array([['for'],\n",
    "                       ['only'],\n",
    "                       ['the'],\n",
    "                       ['you']])"
   ],
   "metadata": {
    "collapsed": false,
    "pycharm": {
     "name": "#%%\n"
    }
   }
  },
  {
   "cell_type": "code",
   "execution_count": 68,
   "outputs": [],
   "source": [
    "test=np.array([[ 5, 22, 17, 16]])"
   ],
   "metadata": {
    "collapsed": false,
    "pycharm": {
     "name": "#%%\n"
    }
   }
  },
  {
   "cell_type": "code",
   "execution_count": 69,
   "outputs": [
    {
     "data": {
      "text/plain": "array([['the']], dtype='<U4')"
     },
     "execution_count": 69,
     "metadata": {},
     "output_type": "execute_result"
    }
   ],
   "source": [
    "import scipy.spatial.distance as ds\n",
    "def classify1k(train_samples, train_labels,test_samples, metric='euclidean'):\n",
    "    distances = ds.cdist(train_samples, test_samples, metric=metric)\n",
    "    test_labels_indices = np.argmin(distances, axis=0)\n",
    "    return train_labels[test_labels_indices]\n",
    "\n",
    "\n",
    "xx=classify1k(histograms[:3],train_labels,test)\n",
    "\n",
    "\n",
    "xx"
   ],
   "metadata": {
    "collapsed": false,
    "pycharm": {
     "name": "#%%\n"
    }
   }
  },
  {
   "cell_type": "code",
   "execution_count": 70,
   "outputs": [
    {
     "data": {
      "text/plain": "\"\\n\\n\\n\\n\\nfrom matplotlib.patches import Circle, Rectangle\\nfrom matplotlib.lines import Line2D\\n\\ndraw_descriptor_cells = True\\nfig = plt.figure()\\nax = fig.add_subplot(111)\\nax.imshow(im_arr, cmap=cm.get_cmap('Greys_r'))\\nax.autoscale(enable=False)\\ncolormap = cm.get_cmap('jet')\\ndesc_len = cell_size * 4\\nfor (x, y), label in zip(frames, labels):\\n    color = colormap(label / float(n_centroids))\\n    circle = Circle((x, y), radius=1, fc=color, ec=color, alpha=1)\\n    rect = Rectangle((x - desc_len / 2, y - desc_len / 2),\\n                     desc_len, desc_len, alpha=0.08, lw=1)\\n    ax.add_patch(circle)\\n    if draw_descriptor_cells:\\n        for p_factor in [0.25, 0.5, 0.75]:\\n            offset_dyn = desc_len * (0.5 - p_factor)\\n            offset_stat = desc_len * 0.5\\n            line_h = Line2D((x - offset_stat, x + offset_stat),\\n                            (y - offset_dyn, y - offset_dyn), alpha=0.08, lw=1)\\n            line_v = Line2D((x - offset_dyn, x - offset_dyn),\\n                            (y - offset_stat, y + offset_stat), alpha=0.08, lw=1)\\n            ax.add_line(line_h)\\n            ax.add_line(line_v)\\n    ax.add_patch(rect)\\nplt.show()\\n\\n\\nhist = np.bincount(labels)\\nhist\\n\\n\\ny_values=hist\\nx_pos = np.arange(len(y_values))\\nfig = plt.figure()\\nax = fig.add_subplot(111)\\nax.bar(x_pos, y_values, width=0.9, align='center', alpha=0.4,color=[colormap(i / float(n_centroids)) for i in x_pos])\\n\\nax.set_xticks(x_pos)\\nplt.show()\\n\""
     },
     "execution_count": 70,
     "metadata": {},
     "output_type": "execute_result"
    }
   ],
   "source": [
    "\n",
    "\n",
    "'''\n",
    "\n",
    "\n",
    "\n",
    "\n",
    "from matplotlib.patches import Circle, Rectangle\n",
    "from matplotlib.lines import Line2D\n",
    "\n",
    "draw_descriptor_cells = True\n",
    "fig = plt.figure()\n",
    "ax = fig.add_subplot(111)\n",
    "ax.imshow(im_arr, cmap=cm.get_cmap('Greys_r'))\n",
    "ax.autoscale(enable=False)\n",
    "colormap = cm.get_cmap('jet')\n",
    "desc_len = cell_size * 4\n",
    "for (x, y), label in zip(frames, labels):\n",
    "    color = colormap(label / float(n_centroids))\n",
    "    circle = Circle((x, y), radius=1, fc=color, ec=color, alpha=1)\n",
    "    rect = Rectangle((x - desc_len / 2, y - desc_len / 2),\n",
    "                     desc_len, desc_len, alpha=0.08, lw=1)\n",
    "    ax.add_patch(circle)\n",
    "    if draw_descriptor_cells:\n",
    "        for p_factor in [0.25, 0.5, 0.75]:\n",
    "            offset_dyn = desc_len * (0.5 - p_factor)\n",
    "            offset_stat = desc_len * 0.5\n",
    "            line_h = Line2D((x - offset_stat, x + offset_stat),\n",
    "                            (y - offset_dyn, y - offset_dyn), alpha=0.08, lw=1)\n",
    "            line_v = Line2D((x - offset_dyn, x - offset_dyn),\n",
    "                            (y - offset_stat, y + offset_stat), alpha=0.08, lw=1)\n",
    "            ax.add_line(line_h)\n",
    "            ax.add_line(line_v)\n",
    "    ax.add_patch(rect)\n",
    "plt.show()\n",
    "\n",
    "\n",
    "hist = np.bincount(labels)\n",
    "hist\n",
    "\n",
    "\n",
    "y_values=hist\n",
    "x_pos = np.arange(len(y_values))\n",
    "fig = plt.figure()\n",
    "ax = fig.add_subplot(111)\n",
    "ax.bar(x_pos, y_values, width=0.9, align='center', alpha=0.4,color=[colormap(i / float(n_centroids)) for i in x_pos])\n",
    "\n",
    "ax.set_xticks(x_pos)\n",
    "plt.show()\n",
    "'''\n",
    "\n",
    "\n",
    "\n",
    "\n",
    "\n"
   ],
   "metadata": {
    "collapsed": false,
    "pycharm": {
     "name": "#%%\n"
    }
   }
  }
 ],
 "metadata": {
  "kernelspec": {
   "display_name": "Python 3",
   "language": "python",
   "name": "python3"
  },
  "language_info": {
   "codemirror_mode": {
    "name": "ipython",
    "version": 2
   },
   "file_extension": ".py",
   "mimetype": "text/x-python",
   "name": "python",
   "nbconvert_exporter": "python",
   "pygments_lexer": "ipython2",
   "version": "2.7.6"
  }
 },
 "nbformat": 4,
 "nbformat_minor": 0
}